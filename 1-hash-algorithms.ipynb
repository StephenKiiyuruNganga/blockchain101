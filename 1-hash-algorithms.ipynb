{
 "cells": [
  {
   "cell_type": "markdown",
   "metadata": {},
   "source": [
    "## Blockchain 101\n",
    "\n",
    "### How are passwords secured?  \n",
    "\n",
    "Passwords are used to limit access to certain sensitive information and resources. Consequently they have to be stored safely, in addition to storing them in places inaccessible to unauthorised entities, they also need to be stored in a format that would be incoherent to an attacker in the event they got the stored password.\n",
    "\n",
    "One method used to produce such formats is called hashing. When you hash a password, idealy the only feasible way to know which password produced the hash is to keep guessing and comparing.\n",
    "\n",
    "\n",
    "Open this [link](https://passwordsgenerator.net/sha256-hash-generator/) in new window to use an online sha256 generator for the next section.  \n",
    "\n",
    "\n",
    "#### Scenario  \n",
    "\n",
    "You register an account on www.example.com with the following details\n",
    "\n",
    "email: someone@emailprovider.com  \n",
    "password: passphrase\n",
    "\n",
    "if www.example.com uses sha256 to hash their passwords, the result of \n",
    "\n",
    "`sha256_hash('passphrase')`  \n",
    "\n",
    "will be\n",
    "\n",
    "_1E089E3C5323AD80A90767BDD5907297B4138163F027097FD3BDBEAB528D2D68_ \n",
    "\n",
    "this is the value that will be stored in the database alongside your email address. Next time you need to login, you'll provide your email and your plain text password. Their system will hash the password you provide and compare it with the value they stored when you registered. If it is an exact match, then the password must be the you used to register.  \n",
    "Supposing you misstype the password when trying to login a provide _passphras_ forgetting the _e_ at the end, the result of  \n",
    "\n",
    "`sha256_hash('passphras')`  \n",
    "\n",
    "is  \n",
    "\n",
    "_A1A823955CF47EC05D4A893A191E5ECAD47BA62DFA7603CFA6DA6273914342D6_  \n",
    "\n",
    "this does not match the value stored when you registered, hence the password is rejected.\n",
    "\n",
    "#### Fun activity  \n",
    "\n",
    "Using any method known to you or any of your friends, try and find out which string of characters   \n",
    "produce the following hash.  \n",
    "\n",
    "_A120C814F62ED670C00DD16E53ED6EAEB78A79731B449D3C47AA5115F907189C_   \n",
    "\n",
    "\n",
    "\n",
    "\n",
    "<details><summary>CLICK HERE FOR THE SOLUTION</summary>\n",
    "<p>\n",
    "    \n",
    "This is the text the produces that hash  \n",
    "```Passwords are used to limit access to certain sensitive information and resources. Consequently they have to be stored safely, in addition to storing them in places inaccessible to unauthorised entities, they also need to be stored in a format that would be incoherent to an attacker in the event they got the stored password.\n",
    "```\n",
    "\n",
    "</p>\n",
    "</details>"
   ]
  },
  {
   "cell_type": "markdown",
   "metadata": {},
   "source": [
    "### Practical hashing using sha256  \n",
    "We'll be using sha256 primarily for this tutorial, it is a production grade hashing algorithm.  \n",
    "\n",
    "The following are the samples used in the article."
   ]
  },
  {
   "cell_type": "code",
   "execution_count": 1,
   "metadata": {},
   "outputs": [],
   "source": [
    "# Native python library containing implementations of popular hash algorithms\n",
    "import hashlib"
   ]
  },
  {
   "cell_type": "code",
   "execution_count": 2,
   "metadata": {},
   "outputs": [
    {
     "data": {
      "text/plain": [
       "'1e089e3c5323ad80a90767bdd5907297b4138163f027097fd3bdbeab528d2d68'"
      ]
     },
     "execution_count": 2,
     "metadata": {},
     "output_type": "execute_result"
    }
   ],
   "source": [
    "hashlib.sha256(b\"passphrase\").hexdigest()"
   ]
  },
  {
   "cell_type": "code",
   "execution_count": 3,
   "metadata": {},
   "outputs": [
    {
     "data": {
      "text/plain": [
       "'a1a823955cf47ec05d4a893a191e5ecad47ba62dfa7603cfa6da6273914342d6'"
      ]
     },
     "execution_count": 3,
     "metadata": {},
     "output_type": "execute_result"
    }
   ],
   "source": [
    "hashlib.sha256(b\"passphras\").hexdigest()"
   ]
  },
  {
   "cell_type": "code",
   "execution_count": 4,
   "metadata": {},
   "outputs": [
    {
     "data": {
      "text/plain": [
       "'a120c814f62ed670c00dd16e53ed6eaeb78a79731b449d3c47aa5115f907189c'"
      ]
     },
     "execution_count": 4,
     "metadata": {},
     "output_type": "execute_result"
    }
   ],
   "source": [
    "text = b\"Passwords are used to limit access to certain sensitive information and resources. Consequently they have to be stored safely, in addition to storing them in places inaccessible to unauthorised entities, they also need to be stored in a format that would be incoherent to an attacker in the event they got the stored password.\"\n",
    "\n",
    "hashlib.sha256(text).hexdigest()"
   ]
  },
  {
   "cell_type": "markdown",
   "metadata": {},
   "source": [
    "### Other examples of hash algorithms and more samples"
   ]
  },
  {
   "cell_type": "code",
   "execution_count": 5,
   "metadata": {},
   "outputs": [
    {
     "data": {
      "text/plain": [
       "{'BLAKE2b512',\n",
       " 'BLAKE2s256',\n",
       " 'MD4',\n",
       " 'MD5',\n",
       " 'MD5-SHA1',\n",
       " 'MDC2',\n",
       " 'RIPEMD160',\n",
       " 'SHA1',\n",
       " 'SHA224',\n",
       " 'SHA256',\n",
       " 'SHA384',\n",
       " 'SHA512',\n",
       " 'blake2b',\n",
       " 'blake2b512',\n",
       " 'blake2s',\n",
       " 'blake2s256',\n",
       " 'md4',\n",
       " 'md5',\n",
       " 'md5-sha1',\n",
       " 'mdc2',\n",
       " 'ripemd160',\n",
       " 'sha1',\n",
       " 'sha224',\n",
       " 'sha256',\n",
       " 'sha384',\n",
       " 'sha3_224',\n",
       " 'sha3_256',\n",
       " 'sha3_384',\n",
       " 'sha3_512',\n",
       " 'sha512',\n",
       " 'shake_128',\n",
       " 'shake_256',\n",
       " 'whirlpool'}"
      ]
     },
     "execution_count": 5,
     "metadata": {},
     "output_type": "execute_result"
    }
   ],
   "source": [
    "hashlib.algorithms_available"
   ]
  },
  {
   "cell_type": "code",
   "execution_count": 6,
   "metadata": {},
   "outputs": [
    {
     "data": {
      "text/plain": [
       "'2cf24dba5fb0a30e26e83b2ac5b9e29e1b161e5c1fa7425e73043362938b9824'"
      ]
     },
     "execution_count": 6,
     "metadata": {},
     "output_type": "execute_result"
    }
   ],
   "source": [
    "hashlib.sha256(b\"hello\").hexdigest()"
   ]
  },
  {
   "cell_type": "code",
   "execution_count": 7,
   "metadata": {},
   "outputs": [
    {
     "data": {
      "text/plain": [
       "'3338be694f50c5f338814986cdf0686453a888b84f424d792af4b9202398f392'"
      ]
     },
     "execution_count": 7,
     "metadata": {},
     "output_type": "execute_result"
    }
   ],
   "source": [
    "hashlib.sha3_256(b\"hello\").hexdigest()"
   ]
  },
  {
   "cell_type": "code",
   "execution_count": 8,
   "metadata": {},
   "outputs": [
    {
     "data": {
      "text/plain": [
       "'75d527c368f2efe848ecf6b073a36767800805e9eef2b1857d5f984f036eb6df891d75f72d9b154518c1cd58835286d1da9a38deba3de98b5a53e5ed78a84976'"
      ]
     },
     "execution_count": 8,
     "metadata": {},
     "output_type": "execute_result"
    }
   ],
   "source": [
    "hashlib.sha3_512(b\"hello\").hexdigest()"
   ]
  },
  {
   "cell_type": "code",
   "execution_count": 9,
   "metadata": {},
   "outputs": [
    {
     "data": {
      "text/plain": [
       "'108f07b8382412612c048d07d13f814118445acd'"
      ]
     },
     "execution_count": 9,
     "metadata": {},
     "output_type": "execute_result"
    }
   ],
   "source": [
    "h = hashlib.new('ripemd160')\n",
    "h.update(b\"hello\")\n",
    "h.hexdigest()"
   ]
  },
  {
   "cell_type": "code",
   "execution_count": 10,
   "metadata": {},
   "outputs": [
    {
     "data": {
      "text/plain": [
       "'0a25f55d7308eca6b9567a7ed3bd1b46327f0f1ffdc804dd8bb5af40e88d78b88df0d002a89e2fdbd5876c523f1b67bc44e9f87047598e7548298ea1c81cfd73'"
      ]
     },
     "execution_count": 10,
     "metadata": {},
     "output_type": "execute_result"
    }
   ],
   "source": [
    "h = hashlib.new('whirlpool')\n",
    "h.update(b\"hello\")\n",
    "h.hexdigest()"
   ]
  },
  {
   "cell_type": "markdown",
   "metadata": {},
   "source": [
    "### Formal definition of a hash algorithm   \n",
    "A hash function is a function that takes a set of inputs of any arbitrary size and fits them into a table or other data structure that contains fixed-size elements."
   ]
  },
  {
   "cell_type": "markdown",
   "metadata": {},
   "source": [
    "### Comparisons between hash algorithms, pros and cons.\n",
    "\n",
    "Summary  \n",
    "1. [Comparison of cryptographic hash functions - Wikipedia](https://en.wikipedia.org/wiki/Comparison_of_cryptographic_hash_functions)  \n",
    "\n",
    "Detailed  \n",
    "1. [Hashing Functions and Their Uses In Cryptography - University of Missouri-St. Louis](http://www.umsl.edu/~siegelj/information_theory/projects/HashingFunctionsInCryptography.html)\n",
    "\n",
    "2. [Introduction to Modern Cryptography (2nd edition) Chapter 5 (PDF)](http://web.cse.ohio-state.edu/~lai.1/5351/6.Hash.pdf)\n",
    "\n",
    "3. [Cryptographic Hash-Function Basics: Definitions, Implications, and Separations for Preimage Resistance, Second-Preimage Resistance, and Collision Resistance](https://eprint.iacr.org/2004/035.pdf)\n"
   ]
  },
  {
   "cell_type": "markdown",
   "metadata": {},
   "source": [
    "### Project Solution"
   ]
  },
  {
   "cell_type": "code",
   "execution_count": null,
   "metadata": {},
   "outputs": [
    {
     "name": "stdout",
     "output_type": "stream",
     "text": [
      "Infinate Loop \n",
      ">>> mango\n",
      "6815f3c300383519de8e437497e2c3e97852fe8d717a5419d5aafb00cb43c494\n",
      ">>> banana\n",
      "b493d48364afe44d11c0165cf470a4164d1e2609911ef998be868d46ade3de4e\n",
      ">>> I bet no one will ever crack this\n",
      "0ac45018c4502cdaaf9e7ff932e972697012f793370a209fd40dddfdd35a83a4\n"
     ]
    }
   ],
   "source": [
    "# import hashlib \n",
    "print(\"Infinate Loop \")\n",
    "while 1:\n",
    "    text = input(\">>> \")\n",
    "    print(hashlib.sha256(bytes(text, 'utf-8')).hexdigest())"
   ]
  },
  {
   "cell_type": "markdown",
   "metadata": {},
   "source": [
    "[Yours Truly](https://github.com/wangai)"
   ]
  }
 ],
 "metadata": {
  "kernelspec": {
   "display_name": "Python 3",
   "language": "python",
   "name": "python3"
  },
  "language_info": {
   "codemirror_mode": {
    "name": "ipython",
    "version": 3
   },
   "file_extension": ".py",
   "mimetype": "text/x-python",
   "name": "python",
   "nbconvert_exporter": "python",
   "pygments_lexer": "ipython3",
   "version": "3.7.1"
  }
 },
 "nbformat": 4,
 "nbformat_minor": 2
}
